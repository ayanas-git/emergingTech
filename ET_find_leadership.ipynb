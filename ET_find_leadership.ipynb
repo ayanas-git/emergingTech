{
 "cells": [
  {
   "cell_type": "code",
   "execution_count": 4,
   "metadata": {},
   "outputs": [],
   "source": [
    "#Emerging Technologies\n",
    "\n",
    "import pandas as pd\n",
    "from gensim import corpora\n",
    "from gensim.similarities import MatrixSimilarity #cosine similarity\n",
    "from gensim.models import TfidfModel\n",
    "from gensim.utils import simple_preprocess"
   ]
  },
  {
   "cell_type": "code",
   "execution_count": 5,
   "metadata": {},
   "outputs": [],
   "source": [
    "#first read the recon file. this will contain a list of subpage hypertexts that will be very useful\n",
    "recon = pd.read_csv(r\"C:\\Users\\Ayana\\VCU_Work\\Data_IN_OUT\\Webscraping Activity.csv\")"
   ]
  },
  {
   "cell_type": "code",
   "execution_count": 3,
   "metadata": {},
   "outputs": [
    {
     "data": {
      "text/html": [
       "<div>\n",
       "<style scoped>\n",
       "    .dataframe tbody tr th:only-of-type {\n",
       "        vertical-align: middle;\n",
       "    }\n",
       "\n",
       "    .dataframe tbody tr th {\n",
       "        vertical-align: top;\n",
       "    }\n",
       "\n",
       "    .dataframe thead th {\n",
       "        text-align: right;\n",
       "    }\n",
       "</style>\n",
       "<table border=\"1\" class=\"dataframe\">\n",
       "  <thead>\n",
       "    <tr style=\"text-align: right;\">\n",
       "      <th></th>\n",
       "      <th>Rank Company Website</th>\n",
       "      <th>Homepage URL</th>\n",
       "      <th>Subpage URL</th>\n",
       "      <th>Subpage URL Hypertext</th>\n",
       "      <th>Left Starting Domain</th>\n",
       "      <th>Structure</th>\n",
       "      <th>Title Included</th>\n",
       "      <th>Education Included</th>\n",
       "      <th>Unnamed: 8</th>\n",
       "      <th>Unnamed: 9</th>\n",
       "      <th>Unnamed: 10</th>\n",
       "    </tr>\n",
       "  </thead>\n",
       "  <tbody>\n",
       "    <tr>\n",
       "      <th>0</th>\n",
       "      <td>1 Walmart https://www.walmart.com/</td>\n",
       "      <td>https://www.walmart.com/</td>\n",
       "      <td>https://corporate.walmart.com/</td>\n",
       "      <td>Our Company</td>\n",
       "      <td>Yes</td>\n",
       "      <td>Grid</td>\n",
       "      <td>No</td>\n",
       "      <td>No</td>\n",
       "      <td>NaN</td>\n",
       "      <td>NaN</td>\n",
       "      <td>NaN</td>\n",
       "    </tr>\n",
       "    <tr>\n",
       "      <th>1</th>\n",
       "      <td>1 Walmart https://www.walmart.com/</td>\n",
       "      <td>https://www.walmart.com/</td>\n",
       "      <td>https://corporate.walmart.com/about/leadership</td>\n",
       "      <td>Leadership</td>\n",
       "      <td>Yes</td>\n",
       "      <td>Grid</td>\n",
       "      <td>Yes</td>\n",
       "      <td>No</td>\n",
       "      <td>NaN</td>\n",
       "      <td>NaN</td>\n",
       "      <td>NaN</td>\n",
       "    </tr>\n",
       "    <tr>\n",
       "      <th>2</th>\n",
       "      <td>1 Walmart https://www.walmart.com/</td>\n",
       "      <td>https://www.walmart.com/</td>\n",
       "      <td>https://corporate.walmart.com/leadership/doug-...</td>\n",
       "      <td>Doug McMillon</td>\n",
       "      <td>Yes</td>\n",
       "      <td>List</td>\n",
       "      <td>Yes</td>\n",
       "      <td>Yes</td>\n",
       "      <td>NaN</td>\n",
       "      <td>NaN</td>\n",
       "      <td>NaN</td>\n",
       "    </tr>\n",
       "    <tr>\n",
       "      <th>3</th>\n",
       "      <td>2 Amazon https://www.amazon.com/</td>\n",
       "      <td>https://www.amazon.com/</td>\n",
       "      <td>https://ir.aboutamazon.com/overview/default.aspx</td>\n",
       "      <td>Investor Relations</td>\n",
       "      <td>Yes</td>\n",
       "      <td>Grid</td>\n",
       "      <td>No</td>\n",
       "      <td>No</td>\n",
       "      <td>NaN</td>\n",
       "      <td>NaN</td>\n",
       "      <td>NaN</td>\n",
       "    </tr>\n",
       "    <tr>\n",
       "      <th>4</th>\n",
       "      <td>2 Amazon https://www.amazon.com/</td>\n",
       "      <td>https://www.amazon.com/</td>\n",
       "      <td>https://ir.aboutamazon.com/officers-and-direct...</td>\n",
       "      <td>Officers and Directors</td>\n",
       "      <td>Yes</td>\n",
       "      <td>List</td>\n",
       "      <td>Yes</td>\n",
       "      <td>Yes</td>\n",
       "      <td>NaN</td>\n",
       "      <td>NaN</td>\n",
       "      <td>NaN</td>\n",
       "    </tr>\n",
       "  </tbody>\n",
       "</table>\n",
       "</div>"
      ],
      "text/plain": [
       "                 Rank Company Website              Homepage URL  \\\n",
       "0  1 Walmart https://www.walmart.com/  https://www.walmart.com/   \n",
       "1  1 Walmart https://www.walmart.com/  https://www.walmart.com/   \n",
       "2  1 Walmart https://www.walmart.com/  https://www.walmart.com/   \n",
       "3    2 Amazon https://www.amazon.com/   https://www.amazon.com/   \n",
       "4    2 Amazon https://www.amazon.com/   https://www.amazon.com/   \n",
       "\n",
       "                                         Subpage URL   Subpage URL Hypertext  \\\n",
       "0                     https://corporate.walmart.com/             Our Company   \n",
       "1     https://corporate.walmart.com/about/leadership              Leadership   \n",
       "2  https://corporate.walmart.com/leadership/doug-...           Doug McMillon   \n",
       "3   https://ir.aboutamazon.com/overview/default.aspx      Investor Relations   \n",
       "4  https://ir.aboutamazon.com/officers-and-direct...  Officers and Directors   \n",
       "\n",
       "  Left Starting Domain Structure Title Included Education Included Unnamed: 8  \\\n",
       "0                  Yes      Grid             No                 No        NaN   \n",
       "1                  Yes      Grid            Yes                 No        NaN   \n",
       "2                  Yes      List            Yes                Yes        NaN   \n",
       "3                  Yes      Grid             No                 No        NaN   \n",
       "4                  Yes      List            Yes                Yes        NaN   \n",
       "\n",
       "  Unnamed: 9 Unnamed: 10  \n",
       "0        NaN         NaN  \n",
       "1        NaN         NaN  \n",
       "2        NaN         NaN  \n",
       "3        NaN         NaN  \n",
       "4        NaN         NaN  "
      ]
     },
     "execution_count": 3,
     "metadata": {},
     "output_type": "execute_result"
    }
   ],
   "source": [
    "recon.head()"
   ]
  },
  {
   "cell_type": "code",
   "execution_count": 6,
   "metadata": {},
   "outputs": [],
   "source": [
    "#clean up NaNs while converting the subpage hypertexts series into a Python list\n",
    "text_docs = list(recon.loc[~recon[\"Subpage URL Hypertext\"].isna()][\"Subpage URL Hypertext\"])"
   ]
  },
  {
   "cell_type": "code",
   "execution_count": null,
   "metadata": {},
   "outputs": [],
   "source": [
    "#remove anything that looks like "
   ]
  }
 ],
 "metadata": {
  "kernelspec": {
   "display_name": "Python 3.9.12 ('emerg0')",
   "language": "python",
   "name": "python3"
  },
  "language_info": {
   "codemirror_mode": {
    "name": "ipython",
    "version": 3
   },
   "file_extension": ".py",
   "mimetype": "text/x-python",
   "name": "python",
   "nbconvert_exporter": "python",
   "pygments_lexer": "ipython3",
   "version": "3.9.12"
  },
  "orig_nbformat": 4,
  "vscode": {
   "interpreter": {
    "hash": "0fba66d99c9715610df6645cbcde9bcb740d7571ea1577308382c86f7f58523b"
   }
  }
 },
 "nbformat": 4,
 "nbformat_minor": 2
}
